{
  "cells": [
    {
      "cell_type": "markdown",
      "metadata": {
        "id": "view-in-github",
        "colab_type": "text"
      },
      "source": [
        "<a href=\"https://colab.research.google.com/github/loongMin/playground/blob/main/Mnist_.ipynb\" target=\"_parent\"><img src=\"https://colab.research.google.com/assets/colab-badge.svg\" alt=\"Open In Colab\"/></a>"
      ]
    },
    {
      "cell_type": "markdown",
      "source": [
        "# Playground on minist handwriting dataset\n",
        "Model consists of 2 Conv2Ds and 3 Densees, and using callBack function to stop training when loss is lower than 0.01"
      ],
      "metadata": {
        "id": "1sqSjhBeJja5"
      }
    },
    {
      "cell_type": "code",
      "execution_count": 6,
      "metadata": {
        "colab": {
          "base_uri": "https://localhost:8080/"
        },
        "id": "GgcIN0X1X7Wq",
        "outputId": "6a18370d-9180-46d3-f531-ce162701b675"
      },
      "outputs": [
        {
          "output_type": "stream",
          "name": "stdout",
          "text": [
            "Using matplotlib backend: agg\n",
            "Epoch 1/5\n",
            "1875/1875 [==============================] - 57s 30ms/step - loss: 0.2434\n",
            "Epoch 2/5\n",
            "1875/1875 [==============================] - 45s 24ms/step - loss: 0.0647\n",
            "Epoch 3/5\n",
            "1875/1875 [==============================] - 68s 36ms/step - loss: 0.0437\n",
            "Epoch 4/5\n",
            "1875/1875 [==============================] - 50s 26ms/step - loss: 0.0348\n",
            "Epoch 5/5\n",
            "1875/1875 [==============================] - 46s 25ms/step - loss: 0.0232\n"
          ]
        },
        {
          "output_type": "execute_result",
          "data": {
            "text/plain": [
              "<keras.callbacks.History at 0x7f4380354dd0>"
            ]
          },
          "metadata": {},
          "execution_count": 6
        }
      ],
      "source": [
        "%matplotlib\n",
        "import matplotlib.pyplot as plt\n",
        "import numpy as np\n",
        "import tensorflow as tf\n",
        "from tensorflow.keras.models import Sequential\n",
        "from tensorflow.keras.layers import Conv2D, Flatten, Dense, Input\n",
        "from tensorflow.keras.activations import relu, softmax\n",
        "class callBack(tf.keras.callbacks.Callback):\n",
        "  def on_epoch_end(self, epoch, logs={}):\n",
        "    if(logs.get('loss')<0.01):\n",
        "      self.model.stop_training = True\n",
        "\n",
        "\n",
        "myCallBack = callBack()\n",
        "mnist = tf.keras.datasets.mnist\n",
        "(train_images, train_labels), (test_images, test_labels) = mnist.load_data()\n",
        "train_images = tf.cast(tf.expand_dims(train_images, -1), dtype=tf.float32)\n",
        "test_images = tf.cast(tf.expand_dims(test_images, -1), dtype=tf.float32)\n",
        "model = Sequential([\n",
        "                    Conv2D(filters=16, kernel_size=(3, 3), strides=(1, 1), padding='same', activation=relu),\n",
        "                    Conv2D(filters=32, kernel_size=(3, 3), strides=(2, 2), padding='valid', activation=relu),\n",
        "                    Flatten(),\n",
        "                    Dense(units=128, activation=relu),\n",
        "                    Dense(units=32, activation=relu),\n",
        "                    Dense(units=10, activation=softmax)\n",
        "])\n",
        "\n",
        "\n",
        "model.compile(optimizer='Adam', loss='sparse_categorical_crossentropy')\n",
        "model.fit(train_images, train_labels, epochs=5, callbacks=[myCallBack])"
      ]
    },
    {
      "cell_type": "markdown",
      "source": [
        "## Now, we see its presentation"
      ],
      "metadata": {
        "id": "Glz87MdwJKM0"
      }
    },
    {
      "cell_type": "code",
      "source": [
        "num = int(np.random.rand() * len(test_labels))\n",
        "img = test_images[num:num+1, :, :, :]\n",
        "img = tf.constant(img)\n",
        "prediction = model(img)\n",
        "assert (img.shape == (1, 28, 28, 1))\n",
        "win_name = '[ ' + str(np.argmax(prediction[0])) + ' ] -' + str(num)\n",
        "plt.title(win_name)\n",
        "plt.imshow(tf.squeeze(img))"
      ],
      "metadata": {
        "colab": {
          "base_uri": "https://localhost:8080/",
          "height": 298
        },
        "id": "7pkmDiZgD0WQ",
        "outputId": "7301b294-766a-4745-ce48-42da495c1d21"
      },
      "execution_count": 19,
      "outputs": [
        {
          "output_type": "execute_result",
          "data": {
            "text/plain": [
              "<matplotlib.image.AxesImage at 0x7f438a3ddfd0>"
            ]
          },
          "metadata": {},
          "execution_count": 19
        },
        {
          "output_type": "display_data",
          "data": {
            "image/png": "[encoded data removed]",
            "text/plain": [
              "<Figure size 432x288 with 1 Axes>"
            ]
          },
          "metadata": {
            "needs_background": "light"
          }
        }
      ]
    }
  ],
  "metadata": {
    "colab": {
      "collapsed_sections": [],
      "name": "Mnist .ipynb",
      "provenance": [],
      "authorship_tag": "ABX9TyN5y1lo+F4n17l1uyruSWeQ",
      "include_colab_link": true
    },
    "kernelspec": {
      "display_name": "Python 3",
      "name": "python3"
    },
    "language_info": {
      "name": "python"
    }
  },
  "nbformat": 4,
  "nbformat_minor": 0
}